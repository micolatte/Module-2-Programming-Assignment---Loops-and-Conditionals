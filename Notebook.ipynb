{
 "cells": [
  {
   "cell_type": "code",
   "execution_count": 3,
   "id": "a61a3c3e-3e45-402e-82f2-df4a2dee1772",
   "metadata": {},
   "outputs": [
    {
     "name": "stdout",
     "output_type": "stream",
     "text": [
      "too high!!\n"
     ]
    }
   ],
   "source": [
    "secret = 6\n",
    "guess = 8 \n",
    "if guess < secret:\n",
    "    print(\"too low\")\n",
    "elif guess > secret:\n",
    "    print(\"too high!!\")\n",
    "else:\n",
    "    print(\"just right!\")"
   ]
  },
  {
   "cell_type": "code",
   "execution_count": 9,
   "id": "7ab7107d-36b7-4d49-9f4c-fda6edc480e0",
   "metadata": {},
   "outputs": [
    {
     "name": "stdout",
     "output_type": "stream",
     "text": [
      "It's a cherry!!\n"
     ]
    }
   ],
   "source": [
    "small = True\n",
    "green = False\n",
    "if small and not green:\n",
    "    print(\"It's a cherry!!\")\n",
    "elif not small and green:\n",
    "    print(\"It's a pea!!\")\n",
    "elif not small and not green:\n",
    "    print(\"It's a pumpkin!!\")\n",
    "elif small and green:\n",
    "    print(\"It's a watermelon!!\")"
   ]
  },
  {
   "cell_type": "code",
   "execution_count": 11,
   "id": "77d26bef-2dda-4ff3-bc5b-a8b27331117c",
   "metadata": {},
   "outputs": [
    {
     "name": "stdout",
     "output_type": "stream",
     "text": [
      "3\n",
      "2\n",
      "1\n",
      "0\n"
     ]
    }
   ],
   "source": [
    "numbers = [3, 2, 1, 0]\n",
    "for number in numbers:\n",
    "    print(number)"
   ]
  },
  {
   "cell_type": "code",
   "execution_count": 15,
   "id": "f79489a1-479a-4cc3-8df8-c0cb1ac011bd",
   "metadata": {},
   "outputs": [
    {
     "name": "stdout",
     "output_type": "stream",
     "text": [
      "too low\n"
     ]
    }
   ],
   "source": [
    "guess_me = 7\n",
    "number = 1\n",
    "while True:\n",
    "    if number > guess_me:\n",
    "        print(\"oops\")\n",
    "    elif number < guess_me:\n",
    "        print(\"too low\")\n",
    "    else:\n",
    "        print(\"found it!\")\n",
    "    break\n",
    "number += 1"
   ]
  },
  {
   "cell_type": "code",
   "execution_count": 19,
   "id": "520bb882-aa32-4ce2-84fc-d0b8ee8ac9b6",
   "metadata": {},
   "outputs": [
    {
     "name": "stdout",
     "output_type": "stream",
     "text": [
      "too low\n",
      "too low\n",
      "too low\n",
      "too low\n",
      "too low\n",
      "found it!\n"
     ]
    }
   ],
   "source": [
    "guess_me = 5\n",
    "\n",
    "for number in range(10):\n",
    "    if number < guess_me:\n",
    "        print(\"too low\")\n",
    "    elif number == guess_me:\n",
    "        print(\"found it!\")\n",
    "        break\n",
    "    if number > guess_me:\n",
    "        print(\"oops\")"
   ]
  },
  {
   "cell_type": "code",
   "execution_count": null,
   "id": "9ea3124b-6b32-4099-a357-1df59f339f6b",
   "metadata": {},
   "outputs": [],
   "source": []
  }
 ],
 "metadata": {
  "kernelspec": {
   "display_name": "Python 3 (ipykernel)",
   "language": "python",
   "name": "python3"
  },
  "language_info": {
   "codemirror_mode": {
    "name": "ipython",
    "version": 3
   },
   "file_extension": ".py",
   "mimetype": "text/x-python",
   "name": "python",
   "nbconvert_exporter": "python",
   "pygments_lexer": "ipython3",
   "version": "3.12.4"
  }
 },
 "nbformat": 4,
 "nbformat_minor": 5
}
